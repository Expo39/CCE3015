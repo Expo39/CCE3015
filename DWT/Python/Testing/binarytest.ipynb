{
 "cells": [
  {
   "cell_type": "code",
   "execution_count": 1,
   "metadata": {},
   "outputs": [
    {
     "name": "stdout",
     "output_type": "stream",
     "text": [
      "Array shape: (3, 4, 4)\n",
      "Array data:\n",
      "[[[ 0.  1.  2.  3.]\n",
      "  [ 4.  5.  6.  7.]\n",
      "  [ 8.  9. 10. 11.]\n",
      "  [12. 13. 14. 15.]]\n",
      "\n",
      " [[16. 17. 18. 19.]\n",
      "  [20. 21. 22. 23.]\n",
      "  [24. 25. 26. 27.]\n",
      "  [28. 29. 30. 31.]]\n",
      "\n",
      " [[32. 33. 34. 35.]\n",
      "  [36. 37. 38. 39.]\n",
      "  [40. 41. 42. 43.]\n",
      "  [44. 45. 46. 47.]]]\n",
      "Test data created: ../../Final/data/test/test.bin and ../../Final/data/test/test_shape.txt\n"
     ]
    }
   ],
   "source": [
    "import numpy as np\n",
    "import os\n",
    "\n",
    "def create_test_data(binary_filename, shape_filename, depth, rows, cols):\n",
    "    # Create a small predefined 3D array\n",
    "    data = np.arange(depth * rows * cols).reshape((depth, rows, cols)).astype(np.float32)\n",
    "    \n",
    "    # Print the shape of the array to verify it's 3D\n",
    "    print(f\"Array shape: {data.shape}\")\n",
    "    \n",
    "    # Print the array\n",
    "    print(\"Array data:\")\n",
    "    print(data)\n",
    "\n",
    "    # Ensure the directory exists\n",
    "    os.makedirs(os.path.dirname(binary_filename), exist_ok=True)\n",
    "\n",
    "    # Save the 3D array to a binary file\n",
    "    data.tofile(binary_filename)\n",
    "\n",
    "    # Save the shape information to a text file\n",
    "    with open(shape_filename, 'w') as f:\n",
    "        f.write(f\"{depth} {rows} {cols}\\n\")\n",
    "\n",
    "if __name__ == \"__main__\":\n",
    "    binary_filename = \"../../Final/data/test/test.bin\"\n",
    "    shape_filename = \"../../Final/data/test/test_shape.txt\"\n",
    "    depth = 3\n",
    "    rows = 4\n",
    "    cols = 4\n",
    "\n",
    "    create_test_data(binary_filename, shape_filename, depth, rows, cols)\n",
    "    print(f\"Test data created: {binary_filename} and {shape_filename}\")"
   ]
  }
 ],
 "metadata": {
  "kernelspec": {
   "display_name": "CCE3015-venv",
   "language": "python",
   "name": "python3"
  },
  "language_info": {
   "codemirror_mode": {
    "name": "ipython",
    "version": 3
   },
   "file_extension": ".py",
   "mimetype": "text/x-python",
   "name": "python",
   "nbconvert_exporter": "python",
   "pygments_lexer": "ipython3",
   "version": "3.10.15"
  }
 },
 "nbformat": 4,
 "nbformat_minor": 2
}
