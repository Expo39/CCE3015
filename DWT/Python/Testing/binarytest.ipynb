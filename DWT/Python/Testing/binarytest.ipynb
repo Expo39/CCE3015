{
 "cells": [
  {
   "cell_type": "code",
   "execution_count": null,
   "metadata": {},
   "outputs": [],
   "source": [
    "import numpy as np\n",
    "\n",
    "def create_test_data(binary_filename, shape_filename, depth, rows, cols):\n",
    "    # Create a 3D array with random float values\n",
    "    data = np.random.rand(depth, rows, cols).astype(np.float32)\n",
    "\n",
    "    # Save the 3D array to a binary file\n",
    "    data.tofile(binary_filename)\n",
    "\n",
    "    # Save the shape information to a text file\n",
    "    with open(shape_filename, 'w') as f:\n",
    "        f.write(f\"{depth} {rows} {cols}\\n\")\n",
    "\n",
    "if __name__ == \"__main__\":\n",
    "    binary_filename = \"../../Final/data/test/test.bin\"\n",
    "    shape_filename = \"../../Final/data/test/test.bin\"\n",
    "    depth = 4\n",
    "    rows = 4\n",
    "    cols = 4\n",
    "\n",
    "    create_test_data(binary_filename, shape_filename, depth, rows, cols)\n",
    "    print(f\"Test data created: {binary_filename} and {shape_filename}\")"
   ]
  }
 ],
 "metadata": {
  "kernelspec": {
   "display_name": "CCE3015-venv",
   "language": "python",
   "name": "python3"
  },
  "language_info": {
   "name": "python",
   "version": "3.10.15"
  }
 },
 "nbformat": 4,
 "nbformat_minor": 2
}
