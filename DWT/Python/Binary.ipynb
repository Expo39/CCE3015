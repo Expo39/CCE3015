{
 "cells": [
  {
   "cell_type": "code",
   "execution_count": 1,
   "metadata": {},
   "outputs": [
    {
     "name": "stdout",
     "output_type": "stream",
     "text": [
      "Shape of the 3D DICOM data: (94, 512, 512)\n",
      "Data saved to ../Binary/4/4.bin and shape saved to ../Binary/4/4_shape.txt\n"
     ]
    }
   ],
   "source": [
    "import os\n",
    "import pydicom\n",
    "import numpy as np\n",
    "import re\n",
    "\n",
    "def read_dicom_files(directory):\n",
    "    dicom_files = []\n",
    "    for filename in os.listdir(directory):\n",
    "        if filename.endswith(\".dcm\"):\n",
    "            filepath = os.path.join(directory, filename)\n",
    "            dicom_data = pydicom.dcmread(filepath)\n",
    "            pixel_array = dicom_data.pixel_array.astype(np.float32)  # Ensure data is float32\n",
    "            dicom_files.append(pixel_array)\n",
    "    dicom_data = np.array(dicom_files)\n",
    "    print(f\"Shape of the 3D DICOM data: {dicom_data.shape}\")\n",
    "    return dicom_data\n",
    "\n",
    "def dicom_to_binary(dicom_directory, binary_file_path, shape_file_path):\n",
    "    dicom_data = read_dicom_files(dicom_directory)\n",
    "    \n",
    "    # Ensure the directory exists\n",
    "    os.makedirs(os.path.dirname(binary_file_path), exist_ok=True)\n",
    "    \n",
    "    dicom_data.tofile(binary_file_path)\n",
    "    with open(shape_file_path, 'w') as f:\n",
    "        f.write(','.join(map(str, dicom_data.shape)))\n",
    "    print(f\"Data saved to {binary_file_path} and shape saved to {shape_file_path}\")\n",
    "\n",
    "# Directory containing the DICOM files\n",
    "dicom_directory = 'Test_Sets/CT/4/DICOM_anon/'\n",
    "\n",
    "# Extract the number from the directory path\n",
    "number = re.search(r'/(\\d+)/', dicom_directory).group(1)\n",
    "\n",
    "# Paths to the output binary and shape files\n",
    "binary_file_path = f'../Binary/{number}/{number}.bin'\n",
    "shape_file_path = f'../Binary/{number}/{number}_shape.txt'\n",
    "\n",
    "# Convert DICOM files to binary and save shape\n",
    "dicom_to_binary(dicom_directory, binary_file_path, shape_file_path)"
   ]
  }
 ],
 "metadata": {
  "kernelspec": {
   "display_name": "CCE3015-venv",
   "language": "python",
   "name": "python3"
  },
  "language_info": {
   "codemirror_mode": {
    "name": "ipython",
    "version": 3
   },
   "file_extension": ".py",
   "mimetype": "text/x-python",
   "name": "python",
   "nbconvert_exporter": "python",
   "pygments_lexer": "ipython3",
   "version": "3.10.15"
  }
 },
 "nbformat": 4,
 "nbformat_minor": 2
}
